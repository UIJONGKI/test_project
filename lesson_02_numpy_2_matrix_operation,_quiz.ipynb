{
  "cells": [
    {
      "cell_type": "markdown",
      "metadata": {
        "id": "view-in-github",
        "colab_type": "text"
      },
      "source": [
        "<a href=\"https://colab.research.google.com/github/UIJONGKI/test_project/blob/main/lesson_02_numpy_2_matrix_operation%2C_quiz.ipynb\" target=\"_parent\"><img src=\"https://colab.research.google.com/assets/colab-badge.svg\" alt=\"Open In Colab\"/></a>"
      ]
    },
    {
      "cell_type": "markdown",
      "metadata": {
        "id": "3fP2mD1Zyhn7"
      },
      "source": [
        "### numpy로 작성하는 행렬"
      ]
    },
    {
      "cell_type": "markdown",
      "metadata": {
        "id": "RxmR9yr0yhoC"
      },
      "source": [
        "#### 행렬의 합\n",
        "\n",
        "$$\n",
        "    \\begin{pmatrix}\n",
        "    1 & 2 & 3 \\\\\n",
        "    4 & 5 & 6 \\\\\n",
        "    \\end{pmatrix}\n",
        "    +\n",
        "    \\begin{pmatrix}\n",
        "    4 & 5 & 6 \\\\\n",
        "    1 & 2 & 3 \\\\\n",
        "    \\end{pmatrix}\n",
        "$$\n",
        "   "
      ]
    },
    {
      "cell_type": "markdown",
      "metadata": {
        "id": "ulAt4b82yhoD"
      },
      "source": [
        "#### 기본적인 list 연산도 구현 가능?"
      ]
    },
    {
      "cell_type": "code",
      "execution_count": 6,
      "metadata": {
        "ExecuteTime": {
          "end_time": "2021-02-02T02:13:40.650498Z",
          "start_time": "2021-02-02T02:13:40.634546Z"
        },
        "colab": {
          "base_uri": "https://localhost:8080/"
        },
        "id": "gkYTIyiryhoE",
        "outputId": "192208bb-cbd9-43d3-d2f2-5a062e369891"
      },
      "outputs": [
        {
          "output_type": "execute_result",
          "data": {
            "text/plain": [
              "[[1, 2, 3], [4, 5, 6], [4, 5, 6], [1, 2, 3]]"
            ]
          },
          "metadata": {},
          "execution_count": 6
        }
      ],
      "source": [
        "A = [[1, 2, 3], [4, 5, 6]]\n",
        "B = [[4, 5, 6], [1, 2, 3]]\n",
        "A+B # ? "
      ]
    },
    {
      "cell_type": "markdown",
      "metadata": {
        "id": "CizZVYsFyhoF"
      },
      "source": [
        "#####  list에서 요소들의 합 구현은 쉽지 않음"
      ]
    },
    {
      "cell_type": "code",
      "execution_count": 7,
      "metadata": {
        "ExecuteTime": {
          "end_time": "2021-02-02T02:17:11.251302Z",
          "start_time": "2021-02-02T02:17:11.235330Z"
        },
        "colab": {
          "base_uri": "https://localhost:8080/"
        },
        "id": "4Vs_oJ-uyhoG",
        "outputId": "762f454a-bdd2-4e76-ab3d-43779331f980"
      },
      "outputs": [
        {
          "output_type": "execute_result",
          "data": {
            "text/plain": [
              "[[5, 7, 9], [5, 7, 9]]"
            ]
          },
          "metadata": {},
          "execution_count": 7
        }
      ],
      "source": [
        "res = [[c+d for c, d in zip(a, b)] for a, b in zip(A, B)]\n",
        "res"
      ]
    },
    {
      "cell_type": "markdown",
      "metadata": {
        "id": "pbkKAdwjyhoG"
      },
      "source": [
        "##### numpy array라면 어떨까?"
      ]
    },
    {
      "cell_type": "code",
      "execution_count": 8,
      "metadata": {
        "ExecuteTime": {
          "end_time": "2021-02-02T02:18:04.679736Z",
          "start_time": "2021-02-02T02:18:04.670760Z"
        },
        "colab": {
          "base_uri": "https://localhost:8080/"
        },
        "id": "3VbkvrCRyhoH",
        "outputId": "d3f179d6-82d1-4193-ce14-43f0b1f23323"
      },
      "outputs": [
        {
          "output_type": "execute_result",
          "data": {
            "text/plain": [
              "array([[5, 7, 9],\n",
              "       [5, 7, 9]])"
            ]
          },
          "metadata": {},
          "execution_count": 8
        }
      ],
      "source": [
        "import numpy as np\n",
        "a = np.array(A)\n",
        "b = np.array(B)\n",
        "a+b"
      ]
    },
    {
      "cell_type": "markdown",
      "metadata": {
        "id": "X1-3Y3weyhoI"
      },
      "source": [
        "### 행렬의 곱\n",
        "\n",
        "$$\n",
        "    \\begin{pmatrix}\n",
        "    1 & 2 & 3 \\\\\n",
        "    4 & 5 & 6 \\\\\n",
        "    \\end{pmatrix}\n",
        "    \\rm{x}\n",
        "    \\begin{pmatrix}\n",
        "    6 & 5 \\\\\n",
        "    4 & 3 \\\\\n",
        "    2 & 1 \\\\\n",
        "    \\end{pmatrix}\n",
        "$$"
      ]
    },
    {
      "cell_type": "markdown",
      "metadata": {
        "id": "QwXvzV7TyhoJ"
      },
      "source": [
        "#### 굳이 list로 만들어서 하겠다면..."
      ]
    },
    {
      "cell_type": "code",
      "execution_count": null,
      "metadata": {
        "ExecuteTime": {
          "end_time": "2021-02-02T02:22:58.702978Z",
          "start_time": "2021-02-02T02:22:58.683031Z"
        },
        "id": "JZ6wkS0PyhoK",
        "outputId": "95fe7a57-55c8-4758-adb4-5ad2c2c681cd"
      },
      "outputs": [
        {
          "data": {
            "text/plain": [
              "[[20, 14], [56, 41]]"
            ]
          },
          "execution_count": 6,
          "metadata": {},
          "output_type": "execute_result"
        }
      ],
      "source": [
        "A = [[1, 2, 3], [4, 5, 6]]\n",
        "B = [[6, 5], [4, 3], [2, 1]]\n",
        "\n",
        "res = [[sum(a*b for a, b in zip(A_row,B_col)) for B_col in zip(*B)] for A_row in A]\n",
        "res"
      ]
    },
    {
      "cell_type": "code",
      "source": [
        "arr = np.array([[2,10,15],[1,2,3]]) # (2,3)\n",
        "arr1 = np.array([1])\n",
        "arr2 = np.array([1,2,3])\n",
        "arr, arr1, arr2"
      ],
      "metadata": {
        "colab": {
          "base_uri": "https://localhost:8080/"
        },
        "id": "z8hC8SZd0KYA",
        "outputId": "223e8937-8ab7-4238-f621-93b85dfc2591"
      },
      "execution_count": 9,
      "outputs": [
        {
          "output_type": "execute_result",
          "data": {
            "text/plain": [
              "(array([[ 2, 10, 15],\n",
              "        [ 1,  2,  3]]), array([1]), array([1, 2, 3]))"
            ]
          },
          "metadata": {},
          "execution_count": 9
        }
      ]
    },
    {
      "cell_type": "markdown",
      "metadata": {
        "id": "RMSJxQ1FyhoL"
      },
      "source": [
        "##### zip(*)"
      ]
    },
    {
      "cell_type": "markdown",
      "metadata": {
        "id": "KCqm3CLPyhoL"
      },
      "source": [
        "$$\n",
        "    \\begin{pmatrix}\n",
        "    1 & 2 & 3 \\\\\n",
        "    4 & 5 & 6 \\\\\n",
        "    \\end{pmatrix}\n",
        "    →\n",
        "    \\begin{pmatrix}\n",
        "    1 & 4 \\\\\n",
        "    2 & 5 \\\\\n",
        "    3 & 6 \\\\\n",
        "    \\end{pmatrix}\n",
        "$$"
      ]
    },
    {
      "cell_type": "code",
      "execution_count": null,
      "metadata": {
        "ExecuteTime": {
          "end_time": "2021-02-02T02:24:12.352098Z",
          "start_time": "2021-02-02T02:24:12.347112Z"
        },
        "id": "wfUPrue6yhoM",
        "outputId": "63895398-b972-4642-ed0a-d0f0ffe5b29a"
      },
      "outputs": [
        {
          "data": {
            "text/plain": [
              "[[1, 2, 3], [4, 5, 6]]"
            ]
          },
          "execution_count": 7,
          "metadata": {},
          "output_type": "execute_result"
        }
      ],
      "source": [
        "ls = [[1, 2, 3], [4, 5, 6]]\n",
        "ls"
      ]
    },
    {
      "cell_type": "code",
      "execution_count": null,
      "metadata": {
        "ExecuteTime": {
          "end_time": "2021-02-02T02:25:56.448311Z",
          "start_time": "2021-02-02T02:25:56.436371Z"
        },
        "id": "klvnPvHQyhoM",
        "outputId": "e8436c54-7bdc-4cdd-f281-52d461bd491c"
      },
      "outputs": [
        {
          "data": {
            "text/plain": [
              "[[1, 4], [2, 5], [3, 6]]"
            ]
          },
          "execution_count": 13,
          "metadata": {},
          "output_type": "execute_result"
        }
      ],
      "source": [
        "ls2 = list(map(list, zip(*ls)))\n",
        "ls2"
      ]
    },
    {
      "cell_type": "markdown",
      "metadata": {
        "id": "byIT67T0yhoN"
      },
      "source": [
        "#### numpy 곱"
      ]
    },
    {
      "cell_type": "code",
      "execution_count": null,
      "metadata": {
        "ExecuteTime": {
          "end_time": "2021-02-02T02:28:17.205716Z",
          "start_time": "2021-02-02T02:28:17.198762Z"
        },
        "id": "e_sTAtNNyhoN",
        "outputId": "29e83b76-f946-43a1-b571-0f5d6a4a2b4c"
      },
      "outputs": [
        {
          "data": {
            "text/plain": [
              "array([[20, 14],\n",
              "       [56, 41]])"
            ]
          },
          "execution_count": 14,
          "metadata": {},
          "output_type": "execute_result"
        }
      ],
      "source": [
        "a = np.array(A)\n",
        "b = np.array(B)\n",
        "a@b"
      ]
    },
    {
      "cell_type": "markdown",
      "metadata": {
        "id": "o8XlYUQ0yhoN"
      },
      "source": [
        "#### 행렬 데이터의 결합\n",
        "    concatenate"
      ]
    },
    {
      "cell_type": "code",
      "execution_count": null,
      "metadata": {
        "ExecuteTime": {
          "end_time": "2021-02-02T06:15:22.677293Z",
          "start_time": "2021-02-02T06:15:22.671310Z"
        },
        "id": "byceu4W0yhoN"
      },
      "outputs": [],
      "source": [
        "r1 = np.array([[1, 9, 8], [7, 0, 2]])\n",
        "r2 = np.array([[1, 8], [2, 2], [0, 2]])\n",
        "r3 = np.array([[7, 6, 0], [3, 5, 4], [6, 7, 9]])"
      ]
    },
    {
      "cell_type": "code",
      "execution_count": null,
      "metadata": {
        "ExecuteTime": {
          "end_time": "2021-02-02T06:16:08.473097Z",
          "start_time": "2021-02-02T06:16:08.464149Z"
        },
        "id": "7zPq9eQzyhoO",
        "outputId": "0bb7ee97-092b-4e1d-cff6-d43d63f115d5"
      },
      "outputs": [
        {
          "data": {
            "text/plain": [
              "array([[1, 9, 8],\n",
              "       [7, 0, 2]])"
            ]
          },
          "execution_count": 29,
          "metadata": {},
          "output_type": "execute_result"
        }
      ],
      "source": [
        "r1"
      ]
    },
    {
      "cell_type": "code",
      "execution_count": null,
      "metadata": {
        "ExecuteTime": {
          "end_time": "2021-02-02T06:16:10.770099Z",
          "start_time": "2021-02-02T06:16:10.760126Z"
        },
        "id": "XwaO_JRbyhoO",
        "outputId": "f2d5f100-90f4-4098-939c-b7d2aed5e390"
      },
      "outputs": [
        {
          "data": {
            "text/plain": [
              "array([[1, 8],\n",
              "       [2, 2],\n",
              "       [0, 2]])"
            ]
          },
          "execution_count": 30,
          "metadata": {},
          "output_type": "execute_result"
        }
      ],
      "source": [
        "r2"
      ]
    },
    {
      "cell_type": "code",
      "execution_count": null,
      "metadata": {
        "ExecuteTime": {
          "end_time": "2021-02-02T06:16:17.605085Z",
          "start_time": "2021-02-02T06:16:17.588134Z"
        },
        "id": "HIOBJ0DtyhoO",
        "outputId": "c3c94780-49fe-40d2-a873-f31b50769715"
      },
      "outputs": [
        {
          "data": {
            "text/plain": [
              "array([[7, 6, 0],\n",
              "       [3, 5, 4],\n",
              "       [6, 7, 9]])"
            ]
          },
          "execution_count": 31,
          "metadata": {},
          "output_type": "execute_result"
        }
      ],
      "source": [
        "r3"
      ]
    },
    {
      "cell_type": "code",
      "execution_count": null,
      "metadata": {
        "ExecuteTime": {
          "end_time": "2021-02-02T06:16:45.873753Z",
          "start_time": "2021-02-02T06:16:45.861756Z"
        },
        "id": "gMdy7k6lyhoP",
        "outputId": "c79dfc31-67ca-45bb-837b-d92e7e2a5735"
      },
      "outputs": [
        {
          "data": {
            "text/plain": [
              "array([[1, 9, 8],\n",
              "       [7, 0, 2],\n",
              "       [7, 6, 0],\n",
              "       [3, 5, 4],\n",
              "       [6, 7, 9]])"
            ]
          },
          "execution_count": 33,
          "metadata": {},
          "output_type": "execute_result"
        }
      ],
      "source": [
        "np.concatenate((r1, r3))"
      ]
    },
    {
      "cell_type": "code",
      "execution_count": null,
      "metadata": {
        "ExecuteTime": {
          "end_time": "2021-02-02T06:17:02.178189Z",
          "start_time": "2021-02-02T06:17:02.163237Z"
        },
        "id": "pHTSEhwVyhoP",
        "outputId": "2fac813f-362c-4519-ba4a-0ef95159c484"
      },
      "outputs": [
        {
          "data": {
            "text/plain": [
              "array([[1, 8, 7, 6, 0],\n",
              "       [2, 2, 3, 5, 4],\n",
              "       [0, 2, 6, 7, 9]])"
            ]
          },
          "execution_count": 34,
          "metadata": {},
          "output_type": "execute_result"
        }
      ],
      "source": [
        "np.concatenate((r2, r3), axis=1)"
      ]
    },
    {
      "cell_type": "code",
      "execution_count": null,
      "metadata": {
        "ExecuteTime": {
          "end_time": "2021-02-02T06:18:47.460676Z",
          "start_time": "2021-02-02T06:18:47.453693Z"
        },
        "id": "dgLHnEoUyhoP",
        "outputId": "8f1848d7-5098-4644-f720-f165f8d4c0f0"
      },
      "outputs": [
        {
          "data": {
            "text/plain": [
              "array([[1, 4],\n",
              "       [2, 5],\n",
              "       [3, 6]])"
            ]
          },
          "execution_count": 36,
          "metadata": {},
          "output_type": "execute_result"
        }
      ],
      "source": [
        "ls1 = np.array([1, 2, 3])\n",
        "ls2 = np.array([4, 5, 6])\n",
        "np.c_[ls1, ls2]"
      ]
    },
    {
      "cell_type": "code",
      "execution_count": null,
      "metadata": {
        "ExecuteTime": {
          "end_time": "2021-02-02T06:18:53.783295Z",
          "start_time": "2021-02-02T06:18:53.779316Z"
        },
        "id": "K8J9c3SzyhoQ",
        "outputId": "48d4845a-95b4-4e65-82ba-d3f0c6a5736b"
      },
      "outputs": [
        {
          "data": {
            "text/plain": [
              "array([1, 2, 3, 4, 5, 6])"
            ]
          },
          "execution_count": 37,
          "metadata": {},
          "output_type": "execute_result"
        }
      ],
      "source": [
        "np.r_[ls1, ls2]"
      ]
    },
    {
      "cell_type": "markdown",
      "metadata": {
        "id": "zYxA2sLoyhoQ"
      },
      "source": [
        "### Quiz\n",
        "    위 행렬의 곱을 for문으로 작성하면?"
      ]
    },
    {
      "cell_type": "code",
      "execution_count": null,
      "metadata": {
        "ExecuteTime": {
          "end_time": "2021-02-02T03:29:52.528895Z",
          "start_time": "2021-02-02T03:29:52.513896Z"
        },
        "id": "Ofq2vFMsyhoQ",
        "outputId": "208e6bcf-8e23-47e3-c20f-f55f6f046638"
      },
      "outputs": [
        {
          "name": "stdout",
          "output_type": "stream",
          "text": [
            "2 3\n"
          ]
        }
      ],
      "source": [
        "A = [[1, 2, 3], [4, 5, 6]]\n",
        "B = [[6, 5],[4, 3], [2, 1]]\n",
        "print(len(A), len(B))"
      ]
    },
    {
      "cell_type": "code",
      "execution_count": null,
      "metadata": {
        "ExecuteTime": {
          "end_time": "2021-02-02T03:32:52.050689Z",
          "start_time": "2021-02-02T03:32:52.038717Z"
        },
        "id": "Z6p_HIldyhoR",
        "outputId": "96ff0d00-512c-4c5a-885f-67418c5b119e"
      },
      "outputs": [
        {
          "data": {
            "text/plain": [
              "[[20, 14], [56, 41]]"
            ]
          },
          "execution_count": 24,
          "metadata": {},
          "output_type": "execute_result"
        }
      ],
      "source": [
        "res = [[0 for i in range(len(B[0]))]for _ in range(len(A))]\n",
        "for i in range(len(A)): # 행\n",
        "    for j in range(len(B[0])): # 행\n",
        "        for k in range(len(A[0])):\n",
        "            res[i][j] += A[i][k] * B[k][j]\n",
        "            \n",
        "res"
      ]
    }
  ],
  "metadata": {
    "hide_input": false,
    "kernelspec": {
      "display_name": "Python 3",
      "language": "python",
      "name": "python3"
    },
    "language_info": {
      "codemirror_mode": {
        "name": "ipython",
        "version": 3
      },
      "file_extension": ".py",
      "mimetype": "text/x-python",
      "name": "python",
      "nbconvert_exporter": "python",
      "pygments_lexer": "ipython3",
      "version": "3.8.5"
    },
    "toc": {
      "base_numbering": 1,
      "nav_menu": {},
      "number_sections": true,
      "sideBar": true,
      "skip_h1_title": false,
      "title_cell": "Table of Contents",
      "title_sidebar": "Contents",
      "toc_cell": false,
      "toc_position": {},
      "toc_section_display": true,
      "toc_window_display": false
    },
    "varInspector": {
      "cols": {
        "lenName": 16,
        "lenType": 16,
        "lenVar": 40
      },
      "kernels_config": {
        "python": {
          "delete_cmd_postfix": "",
          "delete_cmd_prefix": "del ",
          "library": "var_list.py",
          "varRefreshCmd": "print(var_dic_list())"
        },
        "r": {
          "delete_cmd_postfix": ") ",
          "delete_cmd_prefix": "rm(",
          "library": "var_list.r",
          "varRefreshCmd": "cat(var_dic_list()) "
        }
      },
      "types_to_exclude": [
        "module",
        "function",
        "builtin_function_or_method",
        "instance",
        "_Feature"
      ],
      "window_display": false
    },
    "colab": {
      "name": "lesson 02. numpy 2 - matrix operation, quiz.ipynb",
      "provenance": [],
      "include_colab_link": true
    }
  },
  "nbformat": 4,
  "nbformat_minor": 0
}